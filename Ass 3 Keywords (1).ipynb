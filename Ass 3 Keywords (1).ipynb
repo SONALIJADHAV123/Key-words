{
 "cells": [
  {
   "cell_type": "code",
   "execution_count": 2,
   "id": "33ddb0b9-a9f0-45c2-8a4d-971552486efd",
   "metadata": {},
   "outputs": [
    {
     "name": "stdout",
     "output_type": "stream",
     "text": [
      "Hello World\n"
     ]
    }
   ],
   "source": [
    "print(\"Hello World\")"
   ]
  },
  {
   "cell_type": "markdown",
   "id": "03240781-9d60-4370-a4a2-e4eb3e6bba5a",
   "metadata": {},
   "source": [
    "a=3"
   ]
  },
  {
   "cell_type": "code",
   "execution_count": 4,
   "id": "33fa8c8c-0d2e-42b9-9c3f-b200add54e27",
   "metadata": {},
   "outputs": [
    {
     "data": {
      "text/plain": [
       "3"
      ]
     },
     "execution_count": 4,
     "metadata": {},
     "output_type": "execute_result"
    }
   ],
   "source": [
    "a"
   ]
  },
  {
   "cell_type": "code",
   "execution_count": 5,
   "id": "96f88b5b-c1d9-4111-add5-06f998dcb57c",
   "metadata": {},
   "outputs": [
    {
     "data": {
      "text/plain": [
       "int"
      ]
     },
     "execution_count": 5,
     "metadata": {},
     "output_type": "execute_result"
    }
   ],
   "source": [
    "type(a)"
   ]
  },
  {
   "cell_type": "code",
   "execution_count": 6,
   "id": "798f4621-d7cc-45eb-a877-53d034f3fa3e",
   "metadata": {},
   "outputs": [],
   "source": [
    "a=4.2"
   ]
  },
  {
   "cell_type": "code",
   "execution_count": 7,
   "id": "c244596e-42d8-4199-84d2-6d31cdbe251e",
   "metadata": {},
   "outputs": [
    {
     "data": {
      "text/plain": [
       "4.2"
      ]
     },
     "execution_count": 7,
     "metadata": {},
     "output_type": "execute_result"
    }
   ],
   "source": [
    "a"
   ]
  },
  {
   "cell_type": "code",
   "execution_count": 1,
   "id": "f972db96-ca89-4569-9e9d-a522e46e910c",
   "metadata": {},
   "outputs": [],
   "source": [
    "sonaa =8"
   ]
  },
  {
   "cell_type": "code",
   "execution_count": 2,
   "id": "cce797fc-8503-41d5-8409-d1ee9354514a",
   "metadata": {},
   "outputs": [
    {
     "data": {
      "text/plain": [
       "8"
      ]
     },
     "execution_count": 2,
     "metadata": {},
     "output_type": "execute_result"
    }
   ],
   "source": [
    "sonaa"
   ]
  },
  {
   "cell_type": "code",
   "execution_count": 4,
   "id": "0ec6c2e5-3d4c-4136-a0cb-49aa7c115bd5",
   "metadata": {},
   "outputs": [],
   "source": [
    "A = \"sona\""
   ]
  },
  {
   "cell_type": "code",
   "execution_count": 5,
   "id": "0f84c8c6-96a1-4715-9ac1-4fbedd4c8785",
   "metadata": {},
   "outputs": [
    {
     "data": {
      "text/plain": [
       "'sona'"
      ]
     },
     "execution_count": 5,
     "metadata": {},
     "output_type": "execute_result"
    }
   ],
   "source": [
    "A"
   ]
  },
  {
   "cell_type": "code",
   "execution_count": 9,
   "id": "e19121a4-84ae-456a-98af-7b6fd60ad752",
   "metadata": {},
   "outputs": [
    {
     "data": {
      "text/plain": [
       "str"
      ]
     },
     "execution_count": 9,
     "metadata": {},
     "output_type": "execute_result"
    }
   ],
   "source": [
    "type(A)"
   ]
  },
  {
   "cell_type": "code",
   "execution_count": 10,
   "id": "87c9abc3-403a-4005-bcec-bd9663f8ad16",
   "metadata": {},
   "outputs": [],
   "source": [
    "K= True"
   ]
  },
  {
   "cell_type": "code",
   "execution_count": 11,
   "id": "10a0c5c6-6a79-4ba5-8b84-a8453407d7e9",
   "metadata": {},
   "outputs": [
    {
     "data": {
      "text/plain": [
       "bool"
      ]
     },
     "execution_count": 11,
     "metadata": {},
     "output_type": "execute_result"
    }
   ],
   "source": [
    "type(K)"
   ]
  },
  {
   "cell_type": "code",
   "execution_count": 12,
   "id": "593e97d0-004d-4541-b1fe-c62464252229",
   "metadata": {},
   "outputs": [
    {
     "data": {
      "text/plain": [
       "bool"
      ]
     },
     "execution_count": 12,
     "metadata": {},
     "output_type": "execute_result"
    }
   ],
   "source": [
    "B=False\n",
    "type(B)"
   ]
  },
  {
   "cell_type": "code",
   "execution_count": 13,
   "id": "9e8536db-e343-475b-8304-aa2c6bd7f20f",
   "metadata": {},
   "outputs": [
    {
     "data": {
      "text/plain": [
       "1"
      ]
     },
     "execution_count": 13,
     "metadata": {},
     "output_type": "execute_result"
    }
   ],
   "source": [
    "True-False"
   ]
  },
  {
   "cell_type": "code",
   "execution_count": 14,
   "id": "195914ed-85bc-443d-b44e-49268a853d25",
   "metadata": {},
   "outputs": [
    {
     "data": {
      "text/plain": [
       "0"
      ]
     },
     "execution_count": 14,
     "metadata": {},
     "output_type": "execute_result"
    }
   ],
   "source": [
    "True*False"
   ]
  },
  {
   "cell_type": "markdown",
   "id": "911ff8c0-ef82-4b2a-91ed-05b06334e03f",
   "metadata": {},
   "source": [
    "True/False >It will throw error"
   ]
  },
  {
   "cell_type": "code",
   "execution_count": 33,
   "id": "2870267a-3476-44a8-bdb2-5fb9a2c9868d",
   "metadata": {},
   "outputs": [],
   "source": [
    "c= 8-5j"
   ]
  },
  {
   "cell_type": "code",
   "execution_count": 31,
   "id": "03850e4e-4072-4f0b-95e6-f2acd178af08",
   "metadata": {},
   "outputs": [
    {
     "data": {
      "text/plain": [
       "complex"
      ]
     },
     "execution_count": 31,
     "metadata": {},
     "output_type": "execute_result"
    }
   ],
   "source": [
    "type(c)"
   ]
  },
  {
   "cell_type": "code",
   "execution_count": 34,
   "id": "5a8adc56-0242-4c12-894e-ac7d58888f5f",
   "metadata": {},
   "outputs": [
    {
     "data": {
      "text/plain": [
       "8.0"
      ]
     },
     "execution_count": 34,
     "metadata": {},
     "output_type": "execute_result"
    }
   ],
   "source": [
    "c.real"
   ]
  },
  {
   "cell_type": "code",
   "execution_count": 36,
   "id": "c72af45e-041c-4d7e-be43-40fbeb647868",
   "metadata": {},
   "outputs": [
    {
     "data": {
      "text/plain": [
       "-5.0"
      ]
     },
     "execution_count": 36,
     "metadata": {},
     "output_type": "execute_result"
    }
   ],
   "source": [
    "c.imag"
   ]
  },
  {
   "cell_type": "markdown",
   "id": "73c119c6-0bf5-4e29-a53f-477bc69dccf0",
   "metadata": {},
   "source": [
    "Rules of defining variable \n",
    "A variable start with a letter or underscore character"
   ]
  },
  {
   "cell_type": "code",
   "execution_count": 39,
   "id": "1ada3b65-1a66-4208-b8d6-3d6c482e6019",
   "metadata": {},
   "outputs": [],
   "source": [
    "bb=55 #valide"
   ]
  },
  {
   "cell_type": "code",
   "execution_count": 40,
   "id": "0fb78cd3-3fa1-4d58-8568-00c64d0ca8ad",
   "metadata": {},
   "outputs": [
    {
     "data": {
      "text/plain": [
       "55"
      ]
     },
     "execution_count": 40,
     "metadata": {},
     "output_type": "execute_result"
    }
   ],
   "source": [
    "bb"
   ]
  },
  {
   "cell_type": "code",
   "execution_count": 41,
   "id": "1c250d76-1700-412b-a27d-29141c1433be",
   "metadata": {},
   "outputs": [],
   "source": [
    "_name= \"soni\""
   ]
  },
  {
   "cell_type": "code",
   "execution_count": 43,
   "id": "79471e6f-a60d-4fb2-8b3a-6ebb90537222",
   "metadata": {},
   "outputs": [
    {
     "data": {
      "text/plain": [
       "'soni'"
      ]
     },
     "execution_count": 43,
     "metadata": {},
     "output_type": "execute_result"
    }
   ],
   "source": [
    "_name"
   ]
  },
  {
   "cell_type": "code",
   "execution_count": 44,
   "id": "454f1258-c2c5-47fb-88d2-858540ef4af3",
   "metadata": {},
   "outputs": [],
   "source": [
    "location=\"Mumbai\" #R8 and make scence"
   ]
  },
  {
   "cell_type": "code",
   "execution_count": 45,
   "id": "1080d601-574c-4414-a9ba-22bdbf46f287",
   "metadata": {},
   "outputs": [
    {
     "data": {
      "text/plain": [
       "'Mumbai'"
      ]
     },
     "execution_count": 45,
     "metadata": {},
     "output_type": "execute_result"
    }
   ],
   "source": [
    "location"
   ]
  },
  {
   "cell_type": "code",
   "execution_count": 46,
   "id": "6d1f286d-7d6c-4524-89ee-84e8acf93fb5",
   "metadata": {},
   "outputs": [],
   "source": [
    "abc= \"mumbai\" #R8 but not make scence"
   ]
  },
  {
   "cell_type": "code",
   "execution_count": 47,
   "id": "b5fbb858-417a-4d11-a7f9-48cc2a21ae19",
   "metadata": {},
   "outputs": [
    {
     "data": {
      "text/plain": [
       "'mumbai'"
      ]
     },
     "execution_count": 47,
     "metadata": {},
     "output_type": "execute_result"
    }
   ],
   "source": [
    "abc"
   ]
  },
  {
   "cell_type": "code",
   "execution_count": 49,
   "id": "58a5629b-45d4-4a2f-adcb-9516a759aba5",
   "metadata": {},
   "outputs": [],
   "source": [
    "data_analytics_course =\"PW\" #valid"
   ]
  },
  {
   "cell_type": "code",
   "execution_count": 52,
   "id": "20562a89-f756-4157-ad58-7422727dfa65",
   "metadata": {},
   "outputs": [
    {
     "data": {
      "text/plain": [
       "'PW'"
      ]
     },
     "execution_count": 52,
     "metadata": {},
     "output_type": "execute_result"
    }
   ],
   "source": [
    "data_analytics_course"
   ]
  },
  {
   "cell_type": "code",
   "execution_count": 54,
   "id": "b5d1aa2a-eaf0-4cd8-b9e6-0a19276471bd",
   "metadata": {},
   "outputs": [],
   "source": [
    "_PW= \"Job\"# valide"
   ]
  },
  {
   "cell_type": "code",
   "execution_count": 55,
   "id": "e10563cb-e9f9-45b5-82e3-fe20728dbba9",
   "metadata": {},
   "outputs": [
    {
     "data": {
      "text/plain": [
       "'Job'"
      ]
     },
     "execution_count": 55,
     "metadata": {},
     "output_type": "execute_result"
    }
   ],
   "source": [
    "_PW"
   ]
  },
  {
   "cell_type": "code",
   "execution_count": 59,
   "id": "57fffc00-f161-4b49-963c-6fd28000dac0",
   "metadata": {},
   "outputs": [],
   "source": [
    "S20= \"AK\"#valide"
   ]
  },
  {
   "cell_type": "code",
   "execution_count": 60,
   "id": "e4127570-30b3-469f-8290-1dc3f259760d",
   "metadata": {},
   "outputs": [
    {
     "data": {
      "text/plain": [
       "'AK'"
      ]
     },
     "execution_count": 60,
     "metadata": {},
     "output_type": "execute_result"
    }
   ],
   "source": [
    "S20"
   ]
  },
  {
   "cell_type": "code",
   "execution_count": 63,
   "id": "fb5df234-1949-44e8-8685-07a98a72cb74",
   "metadata": {},
   "outputs": [
    {
     "ename": "SyntaxError",
     "evalue": "invalid syntax. Maybe you meant '==' or ':=' instead of '='? (1192832384.py, line 1)",
     "output_type": "error",
     "traceback": [
      "\u001b[0;36m  Cell \u001b[0;32mIn[63], line 1\u001b[0;36m\u001b[0m\n\u001b[0;31m    @Sona=\"pw\"\u001b[0m\n\u001b[0m     ^\u001b[0m\n\u001b[0;31mSyntaxError\u001b[0m\u001b[0;31m:\u001b[0m invalid syntax. Maybe you meant '==' or ':=' instead of '='?\n"
     ]
    }
   ],
   "source": [
    "@Sona=\"pw\""
   ]
  },
  {
   "cell_type": "code",
   "execution_count": 64,
   "id": "2b555e68-8e16-4c69-8377-6a7d33a22688",
   "metadata": {},
   "outputs": [
    {
     "data": {
      "text/plain": [
       "1110"
      ]
     },
     "execution_count": 64,
     "metadata": {},
     "output_type": "execute_result"
    }
   ],
   "source": [
    "# 1 hash only for one line\n",
    "555*2"
   ]
  },
  {
   "cell_type": "code",
   "execution_count": 67,
   "id": "f8bf04f8-27d4-4144-b3e2-5122d0a72700",
   "metadata": {},
   "outputs": [],
   "source": [
    "s= 22-55 #anywhere wright comment by using hash"
   ]
  },
  {
   "cell_type": "code",
   "execution_count": 68,
   "id": "1bd47218-a6d2-4d1c-8b13-6309bc9b08e6",
   "metadata": {},
   "outputs": [
    {
     "data": {
      "text/plain": [
       "-33"
      ]
     },
     "execution_count": 68,
     "metadata": {},
     "output_type": "execute_result"
    }
   ],
   "source": [
    "s"
   ]
  },
  {
   "cell_type": "code",
   "execution_count": 69,
   "id": "5a38015d-7e65-4ff6-97d7-92273dbc2c5d",
   "metadata": {},
   "outputs": [],
   "source": [
    "#Data Scie\n",
    "#Data analyst\n",
    "# Data \n",
    "#PW"
   ]
  },
  {
   "cell_type": "code",
   "execution_count": 72,
   "id": "ded7928b-86e4-4a61-a6c2-e0f12d485636",
   "metadata": {},
   "outputs": [
    {
     "data": {
      "text/plain": [
       "'jjj\\npppp\\nkkkk\\nooo\\ndata\\n'"
      ]
     },
     "execution_count": 72,
     "metadata": {},
     "output_type": "execute_result"
    }
   ],
   "source": [
    "\"\"\"jjj\n",
    "pppp\n",
    "kkkk\n",
    "ooo\n",
    "data\n",
    "\"\"\""
   ]
  },
  {
   "cell_type": "code",
   "execution_count": 1,
   "id": "1b5885c0-ca68-4cae-8afb-1c36d32815b4",
   "metadata": {},
   "outputs": [
    {
     "name": "stdout",
     "output_type": "stream",
     "text": [
      "hiiii\n"
     ]
    }
   ],
   "source": [
    "print(\"hiiii\")"
   ]
  },
  {
   "cell_type": "markdown",
   "id": "d10fba20-67a0-4851-99b7-86228b0454a9",
   "metadata": {},
   "source": [
    "Keywords in python is predefined words\n",
    "Dont use this words as variable"
   ]
  },
  {
   "cell_type": "code",
   "execution_count": 4,
   "id": "107d1950-340c-4547-81ea-dcf7162bce66",
   "metadata": {},
   "outputs": [
    {
     "data": {
      "text/plain": [
       "'Sona'"
      ]
     },
     "execution_count": 4,
     "metadata": {},
     "output_type": "execute_result"
    }
   ],
   "source": [
    "print"
   ]
  },
  {
   "cell_type": "code",
   "execution_count": 5,
   "id": "df9b3b94-fcb7-4592-b160-f23382c7b893",
   "metadata": {},
   "outputs": [
    {
     "ename": "TypeError",
     "evalue": "'str' object is not callable",
     "output_type": "error",
     "traceback": [
      "\u001b[0;31m---------------------------------------------------------------------------\u001b[0m",
      "\u001b[0;31mTypeError\u001b[0m                                 Traceback (most recent call last)",
      "Cell \u001b[0;32mIn[5], line 1\u001b[0m\n\u001b[0;32m----> 1\u001b[0m \u001b[38;5;28;43mprint\u001b[39;49m\u001b[43m(\u001b[49m\u001b[38;5;124;43m\"\u001b[39;49m\u001b[38;5;124;43mhello\u001b[39;49m\u001b[38;5;124;43m\"\u001b[39;49m\u001b[43m)\u001b[49m\n",
      "\u001b[0;31mTypeError\u001b[0m: 'str' object is not callable"
     ]
    }
   ],
   "source": [
    "print(\"hello\")"
   ]
  },
  {
   "cell_type": "code",
   "execution_count": 6,
   "id": "764d1728-74f3-490e-97f3-089dbbcb7e85",
   "metadata": {},
   "outputs": [
    {
     "name": "stdout",
     "output_type": "stream",
     "text": [
      "Hello\n"
     ]
    }
   ],
   "source": [
    "print(\"Hello\")"
   ]
  },
  {
   "cell_type": "code",
   "execution_count": 7,
   "id": "ad777572-8649-427e-9481-8af4f5da0790",
   "metadata": {},
   "outputs": [
    {
     "name": "stdout",
     "output_type": "stream",
     "text": [
      "\n",
      "Here is a list of the Python keywords.  Enter any keyword to get more help.\n",
      "\n",
      "False               class               from                or\n",
      "None                continue            global              pass\n",
      "True                def                 if                  raise\n",
      "and                 del                 import              return\n",
      "as                  elif                in                  try\n",
      "assert              else                is                  while\n",
      "async               except              lambda              with\n",
      "await               finally             nonlocal            yield\n",
      "break               for                 not                 \n",
      "\n"
     ]
    }
   ],
   "source": [
    "help(\"keywords\")"
   ]
  },
  {
   "cell_type": "code",
   "execution_count": 11,
   "id": "017020af-4373-4834-a959-3a789a10ae22",
   "metadata": {},
   "outputs": [
    {
     "name": "stdout",
     "output_type": "stream",
     "text": [
      "greater\n"
     ]
    }
   ],
   "source": [
    "#Indentation\n",
    "if 8>5:\n",
    "    print(\"greater\")\n",
    "    \n",
    "    "
   ]
  },
  {
   "cell_type": "code",
   "execution_count": 12,
   "id": "c22bea7e-c0d3-42da-aa27-9482a7053246",
   "metadata": {},
   "outputs": [],
   "source": [
    "#statement\n",
    "a=45 #assignment statemwnts"
   ]
  },
  {
   "cell_type": "code",
   "execution_count": 13,
   "id": "854d5167-2727-4203-b609-e45fca1172cd",
   "metadata": {},
   "outputs": [
    {
     "data": {
      "text/plain": [
       "45"
      ]
     },
     "execution_count": 13,
     "metadata": {},
     "output_type": "execute_result"
    }
   ],
   "source": [
    "a"
   ]
  },
  {
   "cell_type": "code",
   "execution_count": 14,
   "id": "26ba254f-dd5f-43ce-a377-3a305f87cfda",
   "metadata": {},
   "outputs": [
    {
     "data": {
      "text/plain": [
       "47"
      ]
     },
     "execution_count": 14,
     "metadata": {},
     "output_type": "execute_result"
    }
   ],
   "source": [
    "c=22\n",
    "d=25\n",
    "c+d #expression"
   ]
  },
  {
   "cell_type": "code",
   "execution_count": 6,
   "id": "5014c950-78a8-4d7c-8365-d6708afc59af",
   "metadata": {},
   "outputs": [
    {
     "name": "stdin",
     "output_type": "stream",
     "text": [
      "please enter your name :  5\n"
     ]
    }
   ],
   "source": [
    "#standard input-output\n",
    "name = input(\"please enter your name : \")"
   ]
  },
  {
   "cell_type": "code",
   "execution_count": 7,
   "id": "774b3a21-ef1b-40d4-930e-ecf7ed5238d0",
   "metadata": {},
   "outputs": [
    {
     "data": {
      "text/plain": [
       "'5'"
      ]
     },
     "execution_count": 7,
     "metadata": {},
     "output_type": "execute_result"
    }
   ],
   "source": [
    "name"
   ]
  },
  {
   "cell_type": "code",
   "execution_count": 9,
   "id": "c01e3a5d-3e55-4add-933c-8ad8f3fa4669",
   "metadata": {},
   "outputs": [
    {
     "data": {
      "text/plain": [
       "str"
      ]
     },
     "execution_count": 9,
     "metadata": {},
     "output_type": "execute_result"
    }
   ],
   "source": [
    "type (name)"
   ]
  },
  {
   "cell_type": "code",
   "execution_count": 8,
   "id": "600646e6-d40e-4ef1-98ac-4b9bd9196567",
   "metadata": {},
   "outputs": [
    {
     "data": {
      "text/plain": [
       "5"
      ]
     },
     "execution_count": 8,
     "metadata": {},
     "output_type": "execute_result"
    }
   ],
   "source": [
    "#type casting\n",
    "int(name)"
   ]
  },
  {
   "cell_type": "code",
   "execution_count": 11,
   "id": "bcd86fd6-8223-4fd0-8204-87df21ce50aa",
   "metadata": {},
   "outputs": [
    {
     "data": {
      "text/plain": [
       "str"
      ]
     },
     "execution_count": 11,
     "metadata": {},
     "output_type": "execute_result"
    }
   ],
   "source": [
    "w=\"222\"\n",
    "type(w)"
   ]
  },
  {
   "cell_type": "code",
   "execution_count": 12,
   "id": "ca1c03ca-9874-42c3-9496-33f23e66847f",
   "metadata": {},
   "outputs": [
    {
     "data": {
      "text/plain": [
       "222"
      ]
     },
     "execution_count": 12,
     "metadata": {},
     "output_type": "execute_result"
    }
   ],
   "source": [
    "int(w)"
   ]
  },
  {
   "cell_type": "code",
   "execution_count": 13,
   "id": "5d4fb278-5935-448f-82ee-9831fefe6fa0",
   "metadata": {},
   "outputs": [],
   "source": [
    "s=55"
   ]
  },
  {
   "cell_type": "code",
   "execution_count": 14,
   "id": "20ebeb5a-bec1-499a-864d-473b48e8c9b7",
   "metadata": {},
   "outputs": [
    {
     "data": {
      "text/plain": [
       "int"
      ]
     },
     "execution_count": 14,
     "metadata": {},
     "output_type": "execute_result"
    }
   ],
   "source": [
    "type(s)"
   ]
  },
  {
   "cell_type": "code",
   "execution_count": 16,
   "id": "7929f7a9-8f46-4cf7-aac1-74383b10e8a2",
   "metadata": {},
   "outputs": [
    {
     "data": {
      "text/plain": [
       "str"
      ]
     },
     "execution_count": 16,
     "metadata": {},
     "output_type": "execute_result"
    }
   ],
   "source": [
    "s=\"3.2\"\n",
    "type (s)"
   ]
  },
  {
   "cell_type": "code",
   "execution_count": 17,
   "id": "25242647-1226-492f-8e20-bb6247ec4435",
   "metadata": {},
   "outputs": [
    {
     "data": {
      "text/plain": [
       "3.2"
      ]
     },
     "execution_count": 17,
     "metadata": {},
     "output_type": "execute_result"
    }
   ],
   "source": [
    "float(s)"
   ]
  },
  {
   "cell_type": "code",
   "execution_count": 18,
   "id": "1f91a645-3197-4800-bfd5-e9aa321cf338",
   "metadata": {},
   "outputs": [
    {
     "data": {
      "text/plain": [
       "False"
      ]
     },
     "execution_count": 18,
     "metadata": {},
     "output_type": "execute_result"
    }
   ],
   "source": [
    "bool(0)"
   ]
  },
  {
   "cell_type": "code",
   "execution_count": 19,
   "id": "70e0867b-1dd9-4e9d-9cfb-68b5ec1286b6",
   "metadata": {},
   "outputs": [
    {
     "data": {
      "text/plain": [
       "True"
      ]
     },
     "execution_count": 19,
     "metadata": {},
     "output_type": "execute_result"
    }
   ],
   "source": [
    "bool(1)"
   ]
  },
  {
   "cell_type": "code",
   "execution_count": 20,
   "id": "8fd6a1b3-a263-49d4-87f5-91b73abe2c00",
   "metadata": {},
   "outputs": [],
   "source": [
    "p=\"Sona\""
   ]
  },
  {
   "cell_type": "markdown",
   "id": "6d157ae9-a87b-4ec9-8c92-53d4cf08f398",
   "metadata": {},
   "source": [
    "int(p) #throw an error"
   ]
  },
  {
   "cell_type": "code",
   "execution_count": null,
   "id": "68f71b15-1653-49e5-85a8-e1804fb39f1f",
   "metadata": {},
   "outputs": [],
   "source": []
  }
 ],
 "metadata": {
  "kernelspec": {
   "display_name": "Python 3 (ipykernel)",
   "language": "python",
   "name": "python3"
  },
  "language_info": {
   "codemirror_mode": {
    "name": "ipython",
    "version": 3
   },
   "file_extension": ".py",
   "mimetype": "text/x-python",
   "name": "python",
   "nbconvert_exporter": "python",
   "pygments_lexer": "ipython3",
   "version": "3.10.8"
  }
 },
 "nbformat": 4,
 "nbformat_minor": 5
}
